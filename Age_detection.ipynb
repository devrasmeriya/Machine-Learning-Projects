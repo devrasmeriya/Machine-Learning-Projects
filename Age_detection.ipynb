{
  "nbformat": 4,
  "nbformat_minor": 0,
  "metadata": {
    "colab": {
      "name": "Age_detection.ipynb",
      "provenance": [],
      "authorship_tag": "ABX9TyP7VLL04I20ubGweFbT1Grt",
      "include_colab_link": true
    },
    "kernelspec": {
      "name": "python3",
      "display_name": "Python 3"
    },
    "accelerator": "GPU"
  },
  "cells": [
    {
      "cell_type": "markdown",
      "metadata": {
        "id": "view-in-github",
        "colab_type": "text"
      },
      "source": [
        "<a href=\"https://colab.research.google.com/github/devrasmeriya/Machine-Learning-Projects/blob/main/Age_detection.ipynb\" target=\"_parent\"><img src=\"https://colab.research.google.com/assets/colab-badge.svg\" alt=\"Open In Colab\"/></a>"
      ]
    },
    {
      "cell_type": "code",
      "metadata": {
        "id": "SqHde-9jAb3X"
      },
      "source": [
        "# !pip install tensorflow-gpu"
      ],
      "execution_count": null,
      "outputs": []
    },
    {
      "cell_type": "code",
      "metadata": {
        "id": "4t5hWU6I9MjB",
        "colab": {
          "base_uri": "https://localhost:8080/",
          "height": 34
        },
        "outputId": "5ac51bf4-296b-4c0d-d5d2-3162cd575134"
      },
      "source": [
        "import tensorflow as tf\n",
        "import pandas as pd\n",
        "import numpy as np\n",
        "from tensorflow import keras\n",
        "from keras.preprocessing.image import ImageDataGenerator\n",
        "from keras.preprocessing import image\n",
        "from keras import Sequential\n",
        "from keras.layers import Conv2D,MaxPool2D,Dense,Flatten,BatchNormalization,Dropout\n",
        "from keras.optimizers import Adam\n",
        "from keras.callbacks import ReduceLROnPlateau\n",
        "import matplotlib.pyplot as plt\n",
        "from sklearn.model_selection import train_test_split"
      ],
      "execution_count": null,
      "outputs": [
        {
          "output_type": "stream",
          "text": [
            "Using TensorFlow backend.\n"
          ],
          "name": "stderr"
        }
      ]
    },
    {
      "cell_type": "code",
      "metadata": {
        "id": "17sOOYpYAZNK"
      },
      "source": [
        "# from zipfile import ZipFile\n",
        "# filename='/content/test_Bh8pGW3.zip'\n",
        "#  with ZipFile(filename) as zip\n",
        "#   zip.extractall()"
      ],
      "execution_count": null,
      "outputs": []
    },
    {
      "cell_type": "code",
      "metadata": {
        "id": "SC_nU0DsAt42"
      },
      "source": [
        "train=pd.read_csv('/content/train.csv')\n",
        "test=pd.read_csv('/content/test.csv')\n",
        "MIDDLE=train[train['Class']=='MIDDLE']\n",
        "YOUNG=train[train['Class']=='YOUNG']\n"
      ],
      "execution_count": null,
      "outputs": []
    },
    {
      "cell_type": "code",
      "metadata": {
        "id": "dD0vP6uKj0Tx"
      },
      "source": [
        "# data1=MIDDLE.append(YOUNG,ignore_index=True)"
      ],
      "execution_count": null,
      "outputs": []
    },
    {
      "cell_type": "code",
      "metadata": {
        "id": "VhMhY0lHmn4Q"
      },
      "source": [
        "\n",
        "# y_=data1['Class']\n",
        "# y=y_.map({'MIDDLE':0,'YOUNG':1})\n",
        "\n",
        "\n",
        "y=train['Class']\n",
        "y=pd.get_dummies(y)"
      ],
      "execution_count": null,
      "outputs": []
    },
    {
      "cell_type": "code",
      "metadata": {
        "id": "AcrfrMbXBBMg"
      },
      "source": [
        "train_image=[]\n",
        "for i in range(len(train)):\n",
        "  # img=image.load_img('/content/Train/'+data1['ID'][i],target_size=(32,32,3))\n",
        "  img=image.load_img('/content/Train/'+train['ID'][i],target_size=(32,32,3))\n",
        "  img=image.img_to_array(img)\n",
        "  img=img/255.0\n",
        "  train_image.append(img)\n",
        "x=np.array(train_image)\n",
        "\n",
        "test_image=[]\n",
        "for i in range(len(test)):\n",
        "  img=image.load_img('/content/Test/'+test['ID'][i],target_size=(32,32,3))\n",
        "  img=image.img_to_array(img)\n",
        "  img=img/255.0\n",
        "  test_image.append(img)\n",
        "t=np.array(test_image)\n"
      ],
      "execution_count": null,
      "outputs": []
    },
    {
      "cell_type": "code",
      "metadata": {
        "id": "3zDTvXl3C-O_"
      },
      "source": [
        "\n",
        "train_x,test_x,train_y,test_y=train_test_split(x,y,test_size=.10,random_state=55,shuffle=True)\n"
      ],
      "execution_count": null,
      "outputs": []
    },
    {
      "cell_type": "code",
      "metadata": {
        "id": "zXjgj54o9gbY"
      },
      "source": [
        "model=Sequential()\n",
        "model.add(Conv2D(filters=32,kernel_size=(3,3),padding='same',activation='relu',input_shape=(32,32,3)))\n",
        "model.add(Conv2D(filters=32,kernel_size=(3,3),padding='same',activation='relu'))\n",
        "model.add(BatchNormalization())\n",
        "model.add(MaxPool2D(strides=(1,1),padding='same'))\n",
        "model.add(Dropout(.3))\n",
        "\n",
        "# model.add(Conv2D(filters=64,kernel_size=(3,3),padding='same',activation='relu'))\n",
        "# model.add(Conv2D(filters=64,kernel_size=(3,3),padding='same',activation='relu'))\n",
        "# model.add(BatchNormalization())\n",
        "# model.add(MaxPool2D(strides=(1,1),padding='same'))\n",
        "# model.add(Dropout(.3))\n",
        "\n",
        "# model.add(Conv2D(filters=84,kernel_size=(3,3),padding='same',activation='relu'))\n",
        "# model.add(Dropout(.3))\n",
        "# # model.add(BatchNormalization())\n",
        "# # model.add(MaxPool2D(strides=(1,1),padding='same'))\n",
        "# # model.add(Dropout(.5))\n",
        "\n",
        "\n",
        "model.add(Flatten())\n",
        "model.add(Dense(64,activation='relu'))\n",
        "# model.add(Dense(64,activation='relu'))\n",
        "\n",
        "model.add(Dense(3,activation='softmax'))"
      ],
      "execution_count": null,
      "outputs": []
    },
    {
      "cell_type": "code",
      "metadata": {
        "id": "XwnOuLdhEV_7",
        "colab": {
          "base_uri": "https://localhost:8080/",
          "height": 67
        },
        "outputId": "9924dd9a-1041-4ce4-9b05-1fb4edf9516f"
      },
      "source": [
        "model.compile(optimizer='adam',loss='categorical_crossentropy',metrics=['acc'])\n",
        "model.fit(x,y,batch_size=1,epochs=30,validation_split=.31)"
      ],
      "execution_count": null,
      "outputs": [
        {
          "output_type": "stream",
          "text": [
            "Train on 13735 samples, validate on 6171 samples\n",
            "Epoch 1/30\n",
            "  186/13735 [..............................] - ETA: 3:27 - loss: 1.7365 - acc: 0.4785"
          ],
          "name": "stdout"
        }
      ]
    },
    {
      "cell_type": "code",
      "metadata": {
        "id": "5k6i8nuGdPIQ"
      },
      "source": [
        "ans =model.predict_classes(t)"
      ],
      "execution_count": null,
      "outputs": []
    },
    {
      "cell_type": "code",
      "metadata": {
        "id": "wipU8fdRd7MC"
      },
      "source": [
        "sample=pd.read_csv('/content/sample_submission_sDO3m7O.csv')"
      ],
      "execution_count": null,
      "outputs": []
    },
    {
      "cell_type": "code",
      "metadata": {
        "id": "5wcyOXGXNqmz"
      },
      "source": [
        "sample['Class']=ans\n"
      ],
      "execution_count": null,
      "outputs": []
    },
    {
      "cell_type": "code",
      "metadata": {
        "id": "iF5lKd_BUJLb"
      },
      "source": [
        "sample['Class']=sample['Class'].map({0:'MIDDLE',1:'OLD',2:'YOUNG'})"
      ],
      "execution_count": null,
      "outputs": []
    },
    {
      "cell_type": "code",
      "metadata": {
        "id": "glwqGSmDVWWU"
      },
      "source": [
        "sample.to_csv('submission',index=False)"
      ],
      "execution_count": null,
      "outputs": []
    },
    {
      "cell_type": "code",
      "metadata": {
        "id": "jtBA2p1lYhw1"
      },
      "source": [
        ""
      ],
      "execution_count": null,
      "outputs": []
    }
  ]
}