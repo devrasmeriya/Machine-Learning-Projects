{
  "nbformat": 4,
  "nbformat_minor": 0,
  "metadata": {
    "colab": {
      "name": "Question_recommendation 2.ipynb",
      "provenance": [],
      "collapsed_sections": [],
      "authorship_tag": "ABX9TyOL1Of8GeNJpZ8Q0U1cigsb",
      "include_colab_link": true
    },
    "kernelspec": {
      "name": "python3",
      "display_name": "Python 3"
    },
    "accelerator": "TPU"
  },
  "cells": [
    {
      "cell_type": "markdown",
      "metadata": {
        "id": "view-in-github",
        "colab_type": "text"
      },
      "source": [
        "<a href=\"https://colab.research.google.com/github/devrasmeriya/Machine-Learning-Projects/blob/main/Question_recommendation_2.ipynb\" target=\"_parent\"><img src=\"https://colab.research.google.com/assets/colab-badge.svg\" alt=\"Open In Colab\"/></a>"
      ]
    },
    {
      "cell_type": "code",
      "metadata": {
        "id": "NDl_knH7gBQu"
      },
      "source": [
        "import pandas as pd\n"
      ],
      "execution_count": null,
      "outputs": []
    },
    {
      "cell_type": "code",
      "metadata": {
        "id": "NdRMzwWbgagj"
      },
      "source": [
        "train=pd.read_csv('/content/train_submissions.csv')\n",
        "user=pd.read_csv('/content/user_data.csv')\n",
        "problem=pd.read_csv('/content/problem_data.csv')\n",
        "test=pd.read_csv('/content/test_submissions_NeDLEvX.csv')"
      ],
      "execution_count": null,
      "outputs": []
    },
    {
      "cell_type": "code",
      "metadata": {
        "id": "S4fD-CX5vrAf"
      },
      "source": [
        "data1=train.merge(user,on='user_id',how='left',sort=False)\n",
        "data=data1.merge(problem,on='problem_id',how='left')\n",
        "data['level_type']=data['level_type'].fillna('UN')\n",
        "data['points']=data['points'].fillna(data['points'].median())\n",
        "\n",
        "test=test.merge(user,on='user_id',how='left',sort=False)\n",
        "test=test.merge(problem,on='problem_id',how='left')\n",
        "test['level_type']=test['level_type'].fillna('UN')\n",
        "test['points']=test['points'].fillna(test['points'].median())"
      ],
      "execution_count": null,
      "outputs": []
    },
    {
      "cell_type": "code",
      "metadata": {
        "id": "eAJT8L-ToOrL"
      },
      "source": [
        "ports=pd.get_dummies(data['rank'],prefix='rank')\n",
        "data=data.join(ports)\n",
        "data.drop(['rank','rank_advanced'],axis=1,inplace=True)\n",
        "\n",
        "ports=pd.get_dummies(data['level_type'],prefix='level_type')\n",
        "data=data.join(ports)\n",
        "data.drop(['level_type','level_type_B'],axis=1,inplace=True)\n",
        "\n",
        "data.drop(['country','problem_id','user_id','tags'],axis=1,inplace=True)\n",
        "\n",
        "\n",
        "ports=pd.get_dummies(test['rank'],prefix='rank')\n",
        "test=test.join(ports)\n",
        "test.drop(['rank','rank_advanced'],axis=1,inplace=True)\n",
        "\n",
        "ports=pd.get_dummies(test['level_type'],prefix='level_type')\n",
        "test=test.join(ports)\n",
        "test.drop(['level_type','level_type_B'],axis=1,inplace=True)\n",
        "\n",
        "test.drop(['country','problem_id','user_id','tags','ID'],axis=1,inplace=True)"
      ],
      "execution_count": null,
      "outputs": []
    },
    {
      "cell_type": "code",
      "metadata": {
        "id": "1hOmHVhrxyFT"
      },
      "source": [
        "# d1=data[data['attempts_range']==1]\n",
        "# d2=data[data['attempts_range']==2]\n",
        "# d3=data[data['attempts_range']==3]\n",
        "# d4=data[data['attempts_range']==4]\n",
        "# d5=data[data['attempts_range']==5]\n",
        "# d6=data[data['attempts_range']==6]\n",
        "# d1=d1.sample(2496,random_state=2020)\n",
        "# d2=d2.sample(2496,random_state=2020)\n",
        "# d3=d3.sample(2496,random_state=2020)\n",
        "# d4=d4.sample(2496,random_state=2020)\n",
        "# d5=d5.sample(2496,random_state=2020)\n",
        "# d6=d6.sample(2496,random_state=2020)\n",
        "# data=d1.append([d2,d3,d4,d5,d6],ignore_index=True)"
      ],
      "execution_count": null,
      "outputs": []
    },
    {
      "cell_type": "code",
      "metadata": {
        "id": "TYOXnJup7L-Q"
      },
      "source": [
        "# import xgboost \n",
        "# #  (56, 0, 253, 9, 5944, 3793)      \n"
      ],
      "execution_count": null,
      "outputs": []
    },
    {
      "cell_type": "code",
      "metadata": {
        "id": "TVLMw1dH7UAW"
      },
      "source": [
        "# from xgboost import XGBClassifier"
      ],
      "execution_count": null,
      "outputs": []
    },
    {
      "cell_type": "code",
      "metadata": {
        "id": "IorAGcF_8IF9"
      },
      "source": [
        "# xgb=XGBClassifier(learning_rate=0.01,n_estimators=1000)"
      ],
      "execution_count": null,
      "outputs": []
    },
    {
      "cell_type": "code",
      "metadata": {
        "id": "Mn33zmEg9L5R"
      },
      "source": [
        "x=data.drop(['attempts_range'],axis=1)\n",
        "y=data['attempts_range']\n"
      ],
      "execution_count": null,
      "outputs": []
    },
    {
      "cell_type": "code",
      "metadata": {
        "id": "GyNoI42P8-JV"
      },
      "source": [
        "from sklearn.model_selection import train_test_split\n",
        "train_x,test_x,train_y,test_y=train_test_split(x,y,test_size=.30,random_state=0,shuffle=True)"
      ],
      "execution_count": null,
      "outputs": []
    },
    {
      "cell_type": "code",
      "metadata": {
        "id": "VAlfQdi79W5Q"
      },
      "source": [
        "# xgb.fit(train_x,train_y)"
      ],
      "execution_count": null,
      "outputs": []
    },
    {
      "cell_type": "code",
      "metadata": {
        "id": "yXJpMB3r9g3R"
      },
      "source": [
        "# ans=xgb.predict(test_x)"
      ],
      "execution_count": null,
      "outputs": []
    },
    {
      "cell_type": "code",
      "metadata": {
        "id": "-n-KZHaJ_lRx"
      },
      "source": [
        "# from sklearn.metrics import confusion_matrix\n",
        "# confusion_matrix(test_y,ans)"
      ],
      "execution_count": null,
      "outputs": []
    },
    {
      "cell_type": "code",
      "metadata": {
        "id": "ozNQNibMHPMj"
      },
      "source": [
        "# (ans==6).sum(),(ans==5).sum(),(ans==4).sum(),(ans==3).sum(),(ans==2).sum(),(ans==1).sum()"
      ],
      "execution_count": null,
      "outputs": []
    },
    {
      "cell_type": "code",
      "metadata": {
        "id": "PZKTwP89HdOB"
      },
      "source": [
        "# test_y.value_counts()"
      ],
      "execution_count": null,
      "outputs": []
    },
    {
      "cell_type": "code",
      "metadata": {
        "id": "jLyrwg1i_w0F"
      },
      "source": [
        "# from sklearn.metrics import accuracy_score,f1_score\n",
        "# print('the test accuracy is :{:.6f}'.format(accuracy_score(test_y,xgb.predict(test_x))))"
      ],
      "execution_count": null,
      "outputs": []
    },
    {
      "cell_type": "code",
      "metadata": {
        "id": "f0ixNtfeBJXb"
      },
      "source": [
        "from sklearn.ensemble import RandomForestClassifier\n",
        "rfc=RandomForestClassifier(random_state=0,n_estimators=500)\n"
      ],
      "execution_count": null,
      "outputs": []
    },
    {
      "cell_type": "code",
      "metadata": {
        "id": "O7mtxD8gEBOF",
        "colab": {
          "base_uri": "https://localhost:8080/",
          "height": 151
        },
        "outputId": "5b7b8984-62c5-4208-e93c-17e20cc6b838"
      },
      "source": [
        "# rfc.fit(train_x,train_y)"
      ],
      "execution_count": null,
      "outputs": [
        {
          "output_type": "execute_result",
          "data": {
            "text/plain": [
              "RandomForestClassifier(bootstrap=True, ccp_alpha=0.0, class_weight=None,\n",
              "                       criterion='gini', max_depth=None, max_features='auto',\n",
              "                       max_leaf_nodes=None, max_samples=None,\n",
              "                       min_impurity_decrease=0.0, min_impurity_split=None,\n",
              "                       min_samples_leaf=1, min_samples_split=2,\n",
              "                       min_weight_fraction_leaf=0.0, n_estimators=500,\n",
              "                       n_jobs=None, oob_score=False, random_state=0, verbose=0,\n",
              "                       warm_start=False)"
            ]
          },
          "metadata": {
            "tags": []
          },
          "execution_count": 676
        }
      ]
    },
    {
      "cell_type": "code",
      "metadata": {
        "id": "vXySvtaUVuaW"
      },
      "source": [
        "from sklearn.model_selection import GridSearchCV\n",
        "parameters = {'ccp_alpha':([0.0,.1,.5,.7,.8,1,1.5,2]), 'max_depth':[1, 2,3],'n_estimators':([20,50,80,110,200,300,400,600])}\n",
        "grid=GridSearchCV(rfc,parameters)\n",
        "grid.fit(train_x,train_y)"
      ],
      "execution_count": null,
      "outputs": []
    },
    {
      "cell_type": "code",
      "metadata": {
        "id": "vQLz0Su3E0Kf",
        "colab": {
          "base_uri": "https://localhost:8080/",
          "height": 34
        },
        "outputId": "3f1c991e-692c-4c85-dbdf-3a54f0310ce7"
      },
      "source": [
        "ans=rfc.predict(test_x)\n",
        "ans"
      ],
      "execution_count": null,
      "outputs": [
        {
          "output_type": "execute_result",
          "data": {
            "text/plain": [
              "array([1, 1, 2, ..., 2, 1, 1])"
            ]
          },
          "metadata": {
            "tags": []
          },
          "execution_count": 677
        }
      ]
    },
    {
      "cell_type": "code",
      "metadata": {
        "id": "IkDi6n1VJilA",
        "colab": {
          "base_uri": "https://localhost:8080/",
          "height": 34
        },
        "outputId": "4ca54691-9b21-4068-c0d8-ac3e83fc76ab"
      },
      "source": [
        "(ans==6).sum(),(ans==5).sum(),(ans==4).sum(),(ans==3).sum(),(ans==2).sum(),(ans==1).sum()"
      ],
      "execution_count": null,
      "outputs": [
        {
          "output_type": "execute_result",
          "data": {
            "text/plain": [
              "(305, 231, 500, 1705, 11175, 32673)"
            ]
          },
          "metadata": {
            "tags": []
          },
          "execution_count": 678
        }
      ]
    },
    {
      "cell_type": "code",
      "metadata": {
        "id": "c2zoowNwK28j",
        "colab": {
          "base_uri": "https://localhost:8080/",
          "height": 134
        },
        "outputId": "0780283e-188f-4498-b0b2-98715921b72b"
      },
      "source": [
        "test_y.value_counts()"
      ],
      "execution_count": null,
      "outputs": [
        {
          "output_type": "execute_result",
          "data": {
            "text/plain": [
              "1    25043\n",
              "2    14012\n",
              "3     4230\n",
              "4     1669\n",
              "6      873\n",
              "5      762\n",
              "Name: attempts_range, dtype: int64"
            ]
          },
          "metadata": {
            "tags": []
          },
          "execution_count": 679
        }
      ]
    },
    {
      "cell_type": "code",
      "metadata": {
        "id": "NhyBUopMK_TJ",
        "colab": {
          "base_uri": "https://localhost:8080/",
          "height": 118
        },
        "outputId": "a186f31e-6ace-45ee-dbf4-582ca79ce19b"
      },
      "source": [
        "from sklearn.metrics import confusion_matrix\n",
        "confusion_matrix(test_y,ans)"
      ],
      "execution_count": null,
      "outputs": [
        {
          "output_type": "execute_result",
          "data": {
            "text/plain": [
              "array([[18911,  5009,   721,   206,    86,   110],\n",
              "       [ 9352,  3742,   579,   156,    88,    95],\n",
              "       [ 2587,  1305,   202,    60,    26,    50],\n",
              "       [  958,   557,    89,    32,    10,    23],\n",
              "       [  419,   253,    55,    20,     6,     9],\n",
              "       [  446,   309,    59,    26,    15,    18]])"
            ]
          },
          "metadata": {
            "tags": []
          },
          "execution_count": 680
        }
      ]
    },
    {
      "cell_type": "code",
      "metadata": {
        "id": "c6vlDmldLYzr",
        "colab": {
          "base_uri": "https://localhost:8080/",
          "height": 34
        },
        "outputId": "3f594d69-5dde-4d62-b30a-afc3c6b0d574"
      },
      "source": [
        "from sklearn.metrics import accuracy_score,f1_score\n",
        "accuracy_score(test_y,ans)"
      ],
      "execution_count": null,
      "outputs": [
        {
          "output_type": "execute_result",
          "data": {
            "text/plain": [
              "0.49176844319474555"
            ]
          },
          "metadata": {
            "tags": []
          },
          "execution_count": 681
        }
      ]
    },
    {
      "cell_type": "code",
      "metadata": {
        "id": "MW_xXS8nLY2v",
        "colab": {
          "base_uri": "https://localhost:8080/",
          "height": 34
        },
        "outputId": "caf8b936-0d32-4a2a-ecb6-9897737e15ff"
      },
      "source": [
        "f1_score(test_y,ans,average='weighted')"
      ],
      "execution_count": null,
      "outputs": [
        {
          "output_type": "execute_result",
          "data": {
            "text/plain": [
              "0.4496243079364502"
            ]
          },
          "metadata": {
            "tags": []
          },
          "execution_count": 682
        }
      ]
    },
    {
      "cell_type": "code",
      "metadata": {
        "id": "0L89lZ15NiIx"
      },
      "source": [
        "pred=rfc.predict(test)"
      ],
      "execution_count": null,
      "outputs": []
    },
    {
      "cell_type": "code",
      "metadata": {
        "id": "fV0hDx97PS5y"
      },
      "source": [
        "sample=pd.read_csv('/content/sample_submission_SCGtj9F.csv')\n",
        "sample['attempts_range']=pred\n",
        "sample.to_csv('submission')"
      ],
      "execution_count": null,
      "outputs": []
    },
    {
      "cell_type": "code",
      "metadata": {
        "id": "sdGgMZY3PlPL"
      },
      "source": [
        "sample.reset_index(drop=True, inplace=True)"
      ],
      "execution_count": null,
      "outputs": []
    },
    {
      "cell_type": "code",
      "metadata": {
        "id": "H1DWehsnRse6"
      },
      "source": [
        ""
      ],
      "execution_count": null,
      "outputs": []
    },
    {
      "cell_type": "code",
      "metadata": {
        "id": "j427DjgoRt_w"
      },
      "source": [
        ""
      ],
      "execution_count": null,
      "outputs": []
    }
  ]
}