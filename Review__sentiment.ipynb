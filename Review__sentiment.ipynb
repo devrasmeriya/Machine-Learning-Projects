{
  "nbformat": 4,
  "nbformat_minor": 0,
  "metadata": {
    "colab": {
      "name": "Review _sentiment.ipynb",
      "provenance": [],
      "collapsed_sections": [],
      "authorship_tag": "ABX9TyNHbEH3FAyqAiV5ObDRdAvh",
      "include_colab_link": true
    },
    "kernelspec": {
      "name": "python3",
      "display_name": "Python 3"
    },
    "accelerator": "TPU"
  },
  "cells": [
    {
      "cell_type": "markdown",
      "metadata": {
        "id": "view-in-github",
        "colab_type": "text"
      },
      "source": [
        "<a href=\"https://colab.research.google.com/github/devrasmeriya/Machine-Learning-Projects/blob/main/Review__sentiment.ipynb\" target=\"_parent\"><img src=\"https://colab.research.google.com/assets/colab-badge.svg\" alt=\"Open In Colab\"/></a>"
      ]
    },
    {
      "cell_type": "code",
      "metadata": {
        "id": "kFcNHvDOzlrO",
        "colab": {
          "base_uri": "https://localhost:8080/",
          "height": 402
        },
        "outputId": "ac2f0b85-796c-47e6-fb74-506460542f0f"
      },
      "source": [
        "import pandas as pd\n",
        "train=pd.read_csv('/content/Restaurant_Reviews.tsv', delimiter = '\\t', quoting = 3)\n",
        "train"
      ],
      "execution_count": null,
      "outputs": [
        {
          "output_type": "execute_result",
          "data": {
            "text/html": [
              "<div>\n",
              "<style scoped>\n",
              "    .dataframe tbody tr th:only-of-type {\n",
              "        vertical-align: middle;\n",
              "    }\n",
              "\n",
              "    .dataframe tbody tr th {\n",
              "        vertical-align: top;\n",
              "    }\n",
              "\n",
              "    .dataframe thead th {\n",
              "        text-align: right;\n",
              "    }\n",
              "</style>\n",
              "<table border=\"1\" class=\"dataframe\">\n",
              "  <thead>\n",
              "    <tr style=\"text-align: right;\">\n",
              "      <th></th>\n",
              "      <th>Review</th>\n",
              "      <th>Liked</th>\n",
              "    </tr>\n",
              "  </thead>\n",
              "  <tbody>\n",
              "    <tr>\n",
              "      <th>0</th>\n",
              "      <td>Wow... Loved this place.</td>\n",
              "      <td>1</td>\n",
              "    </tr>\n",
              "    <tr>\n",
              "      <th>1</th>\n",
              "      <td>Crust is not good.</td>\n",
              "      <td>0</td>\n",
              "    </tr>\n",
              "    <tr>\n",
              "      <th>2</th>\n",
              "      <td>Not tasty and the texture was just nasty.</td>\n",
              "      <td>0</td>\n",
              "    </tr>\n",
              "    <tr>\n",
              "      <th>3</th>\n",
              "      <td>Stopped by during the late May bank holiday of...</td>\n",
              "      <td>1</td>\n",
              "    </tr>\n",
              "    <tr>\n",
              "      <th>4</th>\n",
              "      <td>The selection on the menu was great and so wer...</td>\n",
              "      <td>1</td>\n",
              "    </tr>\n",
              "    <tr>\n",
              "      <th>...</th>\n",
              "      <td>...</td>\n",
              "      <td>...</td>\n",
              "    </tr>\n",
              "    <tr>\n",
              "      <th>995</th>\n",
              "      <td>I think food should have flavor and texture an...</td>\n",
              "      <td>0</td>\n",
              "    </tr>\n",
              "    <tr>\n",
              "      <th>996</th>\n",
              "      <td>Appetite instantly gone.</td>\n",
              "      <td>0</td>\n",
              "    </tr>\n",
              "    <tr>\n",
              "      <th>997</th>\n",
              "      <td>Overall I was not impressed and would not go b...</td>\n",
              "      <td>0</td>\n",
              "    </tr>\n",
              "    <tr>\n",
              "      <th>998</th>\n",
              "      <td>The whole experience was underwhelming, and I ...</td>\n",
              "      <td>0</td>\n",
              "    </tr>\n",
              "    <tr>\n",
              "      <th>999</th>\n",
              "      <td>Then, as if I hadn't wasted enough of my life ...</td>\n",
              "      <td>0</td>\n",
              "    </tr>\n",
              "  </tbody>\n",
              "</table>\n",
              "<p>1000 rows × 2 columns</p>\n",
              "</div>"
            ],
            "text/plain": [
              "                                                Review  Liked\n",
              "0                             Wow... Loved this place.      1\n",
              "1                                   Crust is not good.      0\n",
              "2            Not tasty and the texture was just nasty.      0\n",
              "3    Stopped by during the late May bank holiday of...      1\n",
              "4    The selection on the menu was great and so wer...      1\n",
              "..                                                 ...    ...\n",
              "995  I think food should have flavor and texture an...      0\n",
              "996                           Appetite instantly gone.      0\n",
              "997  Overall I was not impressed and would not go b...      0\n",
              "998  The whole experience was underwhelming, and I ...      0\n",
              "999  Then, as if I hadn't wasted enough of my life ...      0\n",
              "\n",
              "[1000 rows x 2 columns]"
            ]
          },
          "metadata": {
            "tags": []
          },
          "execution_count": 1
        }
      ]
    },
    {
      "cell_type": "code",
      "metadata": {
        "id": "dbdRhMQlJeYi"
      },
      "source": [
        "import pandas as pd\n",
        "x=train['Review']\n",
        "y=train['Liked']\n",
        "import string \n",
        "punct=string.punctuation\n",
        "from spacy.lang.en.stop_words import STOP_WORDS\n",
        "stopwords=list(STOP_WORDS)"
      ],
      "execution_count": null,
      "outputs": []
    },
    {
      "cell_type": "code",
      "metadata": {
        "id": "Ielzu92qSWp9"
      },
      "source": [
        "\n",
        "train_0=train[train['Liked']==0]\n",
        "train_1=train[train['Liked']==1]\n"
      ],
      "execution_count": null,
      "outputs": []
    },
    {
      "cell_type": "code",
      "metadata": {
        "id": "3USCvXUrS05I"
      },
      "source": [
        "train_0=train_0.sample(len(train_1),random_state=42)\n",
        "new=train_0.append(train_1)\n",
        "x=new['Review']\n",
        "y=new['Liked']"
      ],
      "execution_count": null,
      "outputs": []
    },
    {
      "cell_type": "code",
      "metadata": {
        "id": "1BHB_t0-Kp4_"
      },
      "source": [
        "import en_core_web_sm\n",
        "import re\n",
        "\n",
        "nlp = en_core_web_sm.load()"
      ],
      "execution_count": null,
      "outputs": []
    },
    {
      "cell_type": "code",
      "metadata": {
        "id": "_vE9HeZRKqyz"
      },
      "source": [
        "def cleaned_data(sentence):\n",
        "    doc=nlp(sentence)\n",
        "    lines=[]\n",
        "    for tokens in doc:\n",
        "      if str(tokens).isalpha():\n",
        "        if str(tokens) not in stopwords and str(tokens) not in [punct,'...','@','^^^',',','   ', '.','#', '\"', ':', ')', '(', '-', '!', '?', '|', ';', \"'\", '$', '&', '/', '[', ']', '>', '%', '=', '#', '*', '+', '\\\\', '•',  '~', '@', '£', \n",
        "'·', '_', '{', '}', '©', '^', '®', '`',  '<', '→', '°', '€', '™', '›',  '♥', '←', '×', '§', '″', '′', 'Â', '█', '½', 'à', '…', \n",
        "'“', '★', '”', '–', '●', 'â', '►', '−', '¢', '²', '¬', '░', '¶', '↑', '±', '¿', '▾', '═', '¦', '║', '―', '¥', '▓', '—', '‹', '─', \n",
        "'▒', '：', '¼', '⊕', '▼', '▪', '†', '■', '’', '▀', '¨', '▄', '♫', '☆', 'é', '¯', '♦', '¤', '▲', 'è', '¸', '¾', 'Ã', '⋅', '‘', '∞', \n",
        "'∙', '）', '↓', '、', '│', '（', '»', '，', '♪', '╩', '╚', '³', '・', '╦', '╣', '╔', '╗', '▬', '❤', 'ï', 'Ø', '¹', '≤', '‡', '√']:\n",
        "            tokens =tokens.lemma_\n",
        "            tokens=str(tokens).replace('@',\"\")\n",
        "            ttokens=str(tokens).replace('#','a')\n",
        "            tokens=str(tokens).replace('?',\"\")\n",
        "            tokens= re.sub(r'http\\S+', '', tokens)\n",
        "            tokens= re.sub(\"@[\\w]*\", '', tokens)\n",
        "            tokens=tokens.lower()\n",
        "\n",
        "            lines.append(tokens)\n",
        "    return lines   \n",
        "        "
      ],
      "execution_count": null,
      "outputs": []
    },
    {
      "cell_type": "code",
      "metadata": {
        "id": "ebq7fP3kK7jV"
      },
      "source": [
        ""
      ],
      "execution_count": null,
      "outputs": []
    },
    {
      "cell_type": "code",
      "metadata": {
        "id": "4EMMc408LwyE"
      },
      "source": [
        "from sklearn.feature_extraction.text import TfidfVectorizer\n",
        "from sklearn.pipeline import Pipeline\n",
        "from sklearn.model_selection import train_test_split\n",
        "from sklearn.metrics import confusion_matrix,accuracy_score,f1_score\n",
        "from sklearn.ensemble import RandomForestClassifier\n",
        "from sklearn.linear_model import SGDClassifier,LogisticRegression\n",
        "from sklearn.naive_bayes import GaussianNB"
      ],
      "execution_count": null,
      "outputs": []
    },
    {
      "cell_type": "code",
      "metadata": {
        "id": "-mlzDKesNDZu"
      },
      "source": [
        "train_x,test_x,train_y,test_y=train_test_split(x,y,test_size=.2,random_state=42,stratify=y)"
      ],
      "execution_count": null,
      "outputs": []
    },
    {
      "cell_type": "code",
      "metadata": {
        "id": "md0-tyTYOCdF",
        "colab": {
          "base_uri": "https://localhost:8080/"
        },
        "outputId": "6d2d67a8-8f04-496a-ddd5-970a8e21e772"
      },
      "source": [
        "pipe_SGDClassifier=Pipeline([('tfid',TfidfVectorizer(tokenizer=cleaned_data)),('rfc',SGDClassifier())])\n",
        "pipe_SGDClassifier.fit(train_x,train_y)\n",
        "pre=pipe_SGDClassifier.predict(test_x)\n",
        "confusion_matrix(test_y,pre),accuracy_score(test_y,pre),f1_score(test_y,pre)"
      ],
      "execution_count": null,
      "outputs": [
        {
          "output_type": "execute_result",
          "data": {
            "text/plain": [
              "(array([[77, 23],\n",
              "        [18, 82]]), 0.795, 0.8)"
            ]
          },
          "metadata": {
            "tags": []
          },
          "execution_count": 14
        }
      ]
    },
    {
      "cell_type": "code",
      "metadata": {
        "id": "GiaLN7ib00h7",
        "colab": {
          "base_uri": "https://localhost:8080/"
        },
        "outputId": "be7aec36-e971-4d9e-9892-244889dae4f4"
      },
      "source": [
        "pipe.predict([\"your website have good  feature but you worked hard so i am good rating  but your project is bad\"])"
      ],
      "execution_count": null,
      "outputs": [
        {
          "output_type": "execute_result",
          "data": {
            "text/plain": [
              "array([0])"
            ]
          },
          "metadata": {
            "tags": []
          },
          "execution_count": 10
        }
      ]
    },
    {
      "cell_type": "code",
      "metadata": {
        "id": "umQdQgD2b3Zr",
        "colab": {
          "base_uri": "https://localhost:8080/"
        },
        "outputId": "9e0da0ab-d005-42fb-879e-fac080ddf4ad"
      },
      "source": [
        "pipe=Pipeline([('tfid',TfidfVectorizer(tokenizer=cleaned_data)),('rfc',LogisticRegression(C=1000))])\n",
        "pipe.fit(train_x,train_y)\n",
        "pre=pipe.predict(test_x)\n",
        "confusion_matrix(test_y,pre),accuracy_score(test_y,pre),f1_score(test_y,pre)"
      ],
      "execution_count": null,
      "outputs": [
        {
          "output_type": "stream",
          "text": [
            "/usr/local/lib/python3.7/dist-packages/sklearn/linear_model/_logistic.py:940: ConvergenceWarning: lbfgs failed to converge (status=1):\n",
            "STOP: TOTAL NO. of ITERATIONS REACHED LIMIT.\n",
            "\n",
            "Increase the number of iterations (max_iter) or scale the data as shown in:\n",
            "    https://scikit-learn.org/stable/modules/preprocessing.html\n",
            "Please also refer to the documentation for alternative solver options:\n",
            "    https://scikit-learn.org/stable/modules/linear_model.html#logistic-regression\n",
            "  extra_warning_msg=_LOGISTIC_SOLVER_CONVERGENCE_MSG)\n"
          ],
          "name": "stderr"
        },
        {
          "output_type": "execute_result",
          "data": {
            "text/plain": [
              "(array([[76, 24],\n",
              "        [20, 80]]), 0.78, 0.7843137254901961)"
            ]
          },
          "metadata": {
            "tags": []
          },
          "execution_count": 11
        }
      ]
    },
    {
      "cell_type": "code",
      "metadata": {
        "id": "zzkkE-1viRLC",
        "colab": {
          "base_uri": "https://localhost:8080/"
        },
        "outputId": "a76a3cbf-acbb-4e22-8dee-9dda90addd68"
      },
      "source": [
        "pipe=Pipeline([('tfid',TfidfVectorizer(tokenizer=cleaned_data)),('rfc',RandomForestClassifier(n_estimators=400))])\n",
        "pipe.fit(train_x,train_y)\n",
        "pre=pipe.predict(test_x)\n",
        "confusion_matrix(test_y,pre),accuracy_score(test_y,pre),f1_score(test_y,pre)"
      ],
      "execution_count": null,
      "outputs": [
        {
          "output_type": "execute_result",
          "data": {
            "text/plain": [
              "(array([[84, 16],\n",
              "        [28, 72]]), 0.78, 0.7659574468085107)"
            ]
          },
          "metadata": {
            "tags": []
          },
          "execution_count": 12
        }
      ]
    },
    {
      "cell_type": "code",
      "metadata": {
        "id": "Otrb_rYSERzz",
        "colab": {
          "base_uri": "https://localhost:8080/"
        },
        "outputId": "d6bf5d5e-9cc5-41c9-ae07-b2e77a578cca"
      },
      "source": [
        "import pickle\n",
        "# open a file, where you ant to store the data\n",
        "file = open('SGDClassifier.pkl', 'wb')\n",
        "\n",
        "# SGDClassifier giving highest accuracy among them f1_score .8\n",
        "\n",
        "# dump information to that file\n",
        "pickle.dump(pipe_SGDClassifier, file)\n",
        "\n",
        "model=pickle.load(open('SGDClassifier.pkl','rb'))\n",
        "# model.predict([\"this is bad\"])"
      ],
      "execution_count": null,
      "outputs": [
        {
          "output_type": "execute_result",
          "data": {
            "text/plain": [
              "array([0])"
            ]
          },
          "metadata": {
            "tags": []
          },
          "execution_count": 17
        }
      ]
    },
    {
      "cell_type": "code",
      "metadata": {
        "id": "Ce1NMw-lIrd0"
      },
      "source": [
        ""
      ],
      "execution_count": null,
      "outputs": []
    }
  ]
}