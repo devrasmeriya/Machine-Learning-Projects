{
  "nbformat": 4,
  "nbformat_minor": 0,
  "metadata": {
    "colab": {
      "name": "NLP review",
      "provenance": [],
      "collapsed_sections": [],
      "toc_visible": true,
      "authorship_tag": "ABX9TyPSFwFUcA6+ra/mns2vvDyZ",
      "include_colab_link": true
    },
    "kernelspec": {
      "name": "python3",
      "display_name": "Python 3"
    }
  },
  "cells": [
    {
      "cell_type": "markdown",
      "metadata": {
        "id": "view-in-github",
        "colab_type": "text"
      },
      "source": [
        "<a href=\"https://colab.research.google.com/github/devrasmeriya/Machine-Learning-Projects/blob/main/NLP_review.ipynb\" target=\"_parent\"><img src=\"https://colab.research.google.com/assets/colab-badge.svg\" alt=\"Open In Colab\"/></a>"
      ]
    },
    {
      "cell_type": "code",
      "metadata": {
        "id": "ttvDTPi0aZO2",
        "colab": {
          "base_uri": "https://localhost:8080/",
          "height": 195
        },
        "outputId": "b1870f53-6710-456c-fd3a-02cb0b92a554"
      },
      "source": [
        "import pandas as pd\n",
        "data=pd.read_csv('/content/train.csv')\n",
        "data.head()"
      ],
      "execution_count": null,
      "outputs": [
        {
          "output_type": "execute_result",
          "data": {
            "text/html": [
              "<div>\n",
              "<style scoped>\n",
              "    .dataframe tbody tr th:only-of-type {\n",
              "        vertical-align: middle;\n",
              "    }\n",
              "\n",
              "    .dataframe tbody tr th {\n",
              "        vertical-align: top;\n",
              "    }\n",
              "\n",
              "    .dataframe thead th {\n",
              "        text-align: right;\n",
              "    }\n",
              "</style>\n",
              "<table border=\"1\" class=\"dataframe\">\n",
              "  <thead>\n",
              "    <tr style=\"text-align: right;\">\n",
              "      <th></th>\n",
              "      <th>id</th>\n",
              "      <th>label</th>\n",
              "      <th>tweet</th>\n",
              "    </tr>\n",
              "  </thead>\n",
              "  <tbody>\n",
              "    <tr>\n",
              "      <th>0</th>\n",
              "      <td>1</td>\n",
              "      <td>0</td>\n",
              "      <td>#fingerprint #Pregnancy Test https://goo.gl/h1...</td>\n",
              "    </tr>\n",
              "    <tr>\n",
              "      <th>1</th>\n",
              "      <td>2</td>\n",
              "      <td>0</td>\n",
              "      <td>Finally a transparant silicon case ^^ Thanks t...</td>\n",
              "    </tr>\n",
              "    <tr>\n",
              "      <th>2</th>\n",
              "      <td>3</td>\n",
              "      <td>0</td>\n",
              "      <td>We love this! Would you go? #talk #makememorie...</td>\n",
              "    </tr>\n",
              "    <tr>\n",
              "      <th>3</th>\n",
              "      <td>4</td>\n",
              "      <td>0</td>\n",
              "      <td>I'm wired I know I'm George I was made that wa...</td>\n",
              "    </tr>\n",
              "    <tr>\n",
              "      <th>4</th>\n",
              "      <td>5</td>\n",
              "      <td>1</td>\n",
              "      <td>What amazing service! Apple won't even talk to...</td>\n",
              "    </tr>\n",
              "  </tbody>\n",
              "</table>\n",
              "</div>"
            ],
            "text/plain": [
              "   id  label                                              tweet\n",
              "0   1      0  #fingerprint #Pregnancy Test https://goo.gl/h1...\n",
              "1   2      0  Finally a transparant silicon case ^^ Thanks t...\n",
              "2   3      0  We love this! Would you go? #talk #makememorie...\n",
              "3   4      0  I'm wired I know I'm George I was made that wa...\n",
              "4   5      1  What amazing service! Apple won't even talk to..."
            ]
          },
          "metadata": {
            "tags": []
          },
          "execution_count": 130
        }
      ]
    },
    {
      "cell_type": "code",
      "metadata": {
        "id": "nSz6h12dbU-e",
        "colab": {
          "base_uri": "https://localhost:8080/",
          "height": 84
        },
        "outputId": "fc50f058-3c92-410c-f657-f687e84a5286"
      },
      "source": [
        "data.isnull().sum()"
      ],
      "execution_count": null,
      "outputs": [
        {
          "output_type": "execute_result",
          "data": {
            "text/plain": [
              "id       0\n",
              "label    0\n",
              "tweet    0\n",
              "dtype: int64"
            ]
          },
          "metadata": {
            "tags": []
          },
          "execution_count": 131
        }
      ]
    },
    {
      "cell_type": "code",
      "metadata": {
        "id": "2J2V0Dj0bjBC",
        "colab": {
          "base_uri": "https://localhost:8080/",
          "height": 34
        },
        "outputId": "901439fb-7032-4efa-8293-fd374c26c844"
      },
      "source": [
        "data.duplicated().sum()"
      ],
      "execution_count": null,
      "outputs": [
        {
          "output_type": "execute_result",
          "data": {
            "text/plain": [
              "0"
            ]
          },
          "metadata": {
            "tags": []
          },
          "execution_count": 132
        }
      ]
    },
    {
      "cell_type": "code",
      "metadata": {
        "id": "SmaJn5cTbouc"
      },
      "source": [
        "x=data['tweet']\n",
        "y=data['label']"
      ],
      "execution_count": null,
      "outputs": []
    },
    {
      "cell_type": "code",
      "metadata": {
        "id": "MLD1k8thb0Me",
        "colab": {
          "base_uri": "https://localhost:8080/",
          "height": 34
        },
        "outputId": "27e1b6b7-d71c-4c67-9e46-0a867a23b0db"
      },
      "source": [
        "import spacy\n",
        "import string\n",
        "nlp=spacy.load('en_core_web_sm')\n",
        "punct=string.punctuation\n",
        "punct"
      ],
      "execution_count": null,
      "outputs": [
        {
          "output_type": "execute_result",
          "data": {
            "text/plain": [
              "'!\"#$%&\\'()*+,-./:;<=>?@[\\\\]^_`{|}~'"
            ]
          },
          "metadata": {
            "tags": []
          },
          "execution_count": 134
        }
      ]
    },
    {
      "cell_type": "code",
      "metadata": {
        "id": "i_w2Xl_Ze5hn",
        "colab": {
          "base_uri": "https://localhost:8080/",
          "height": 34
        },
        "outputId": "b359472a-b5c8-472a-f4a7-23100de414a0"
      },
      "source": [
        "from spacy.lang.en.stop_words import STOP_WORDS\n",
        "stopwords=list(STOP_WORDS)\n",
        "type(stopwords)"
      ],
      "execution_count": null,
      "outputs": [
        {
          "output_type": "execute_result",
          "data": {
            "text/plain": [
              "list"
            ]
          },
          "metadata": {
            "tags": []
          },
          "execution_count": 135
        }
      ]
    },
    {
      "cell_type": "code",
      "metadata": {
        "id": "G0_6AfMwfAf5"
      },
      "source": [
        "def cleaned_data(sentence):\n",
        "  doc=nlp(sentence)\n",
        "  lines=[]\n",
        "  for tokens in doc:  \n",
        "    if str(tokens) not in stopwords and str(tokens) not in [punct,'...',':)','^^','#']:\n",
        "       lines.append(tokens.lower_)\n",
        "  return lines\n"
      ],
      "execution_count": null,
      "outputs": []
    },
    {
      "cell_type": "code",
      "metadata": {
        "id": "hIrotw75jdXc"
      },
      "source": [
        "# clean_x=x.apply(lambda a:cleaned_data(a))"
      ],
      "execution_count": null,
      "outputs": []
    },
    {
      "cell_type": "code",
      "metadata": {
        "id": "DvktXRpajdZ_"
      },
      "source": [
        "from sklearn.model_selection import train_test_split\n",
        "from sklearn.pipeline import Pipeline\n",
        "from sklearn.feature_extraction.text import TfidfVectorizer\n",
        "from sklearn.ensemble import RandomForestClassifier\n",
        "from sklearn.svm import LinearSVC\n",
        "from sklearn.naive_bayes import MultinomialNB\n",
        "from sklearn.linear_model import SGDClassifier,LogisticRegression"
      ],
      "execution_count": null,
      "outputs": []
    },
    {
      "cell_type": "code",
      "metadata": {
        "id": "C2fNuo8ujddT"
      },
      "source": [
        "train_x,test_x,train_y,test_y=train_test_split(x,y,test_size=.20,random_state=0,stratify=y)"
      ],
      "execution_count": null,
      "outputs": []
    },
    {
      "cell_type": "code",
      "metadata": {
        "id": "bGCgMuOnw5dr"
      },
      "source": [
        "# tfid=TfidfVectorizer(tokenizer=cleaned_data,stop_words='english')\n",
        "# tfid.fit(train_x,train_y)"
      ],
      "execution_count": null,
      "outputs": []
    },
    {
      "cell_type": "code",
      "metadata": {
        "id": "nqGHy80orDvJ"
      },
      "source": [
        "# tfid.fit_transform(train_x,train_y)"
      ],
      "execution_count": null,
      "outputs": []
    },
    {
      "cell_type": "code",
      "metadata": {
        "id": "GiHYG22Ah1n8"
      },
      "source": [
        "pipe1=Pipeline([('tfid',TfidfVectorizer(tokenizer=cleaned_data,stop_words='english')),('rfc',RandomForestClassifier(random_state=0))])\n",
        "pipe2=Pipeline([('tfid',TfidfVectorizer(tokenizer=cleaned_data,stop_words='english')),('svc',LinearSVC())])\n",
        "pipe3=Pipeline([('tfid',TfidfVectorizer(tokenizer=cleaned_data,stop_words='english')),('multi',MultinomialNB())])\n",
        "pipe4=Pipeline([('tfid',TfidfVectorizer(tokenizer=cleaned_data,stop_words='english')),('logi',LogisticRegression())])\n",
        "pipe5=Pipeline([('tfid',TfidfVectorizer(tokenizer=cleaned_data,stop_words='english')),('sgd',SGDClassifier())])"
      ],
      "execution_count": null,
      "outputs": []
    },
    {
      "cell_type": "code",
      "metadata": {
        "id": "bCdKFL24jdVC",
        "colab": {
          "base_uri": "https://localhost:8080/",
          "height": 524
        },
        "outputId": "aa96a4e2-4953-4278-d140-129aa5176902"
      },
      "source": [
        "pipe1.fit(train_x,train_y)\n",
        "pipe2.fit(train_x,train_y)\n",
        "pipe3.fit(train_x,train_y)\n",
        "pipe4.fit(train_x,train_y)\n",
        "pipe5.fit(train_x,train_y)\n"
      ],
      "execution_count": null,
      "outputs": [
        {
          "output_type": "stream",
          "text": [
            "/usr/local/lib/python3.6/dist-packages/sklearn/feature_extraction/text.py:385: UserWarning: Your stop_words may be inconsistent with your preprocessing. Tokenizing the stop words generated tokens ['nt'] not in stop_words.\n",
            "  'stop_words.' % sorted(inconsistent))\n",
            "/usr/local/lib/python3.6/dist-packages/sklearn/feature_extraction/text.py:385: UserWarning: Your stop_words may be inconsistent with your preprocessing. Tokenizing the stop words generated tokens ['nt'] not in stop_words.\n",
            "  'stop_words.' % sorted(inconsistent))\n",
            "/usr/local/lib/python3.6/dist-packages/sklearn/feature_extraction/text.py:385: UserWarning: Your stop_words may be inconsistent with your preprocessing. Tokenizing the stop words generated tokens ['nt'] not in stop_words.\n",
            "  'stop_words.' % sorted(inconsistent))\n",
            "/usr/local/lib/python3.6/dist-packages/sklearn/feature_extraction/text.py:385: UserWarning: Your stop_words may be inconsistent with your preprocessing. Tokenizing the stop words generated tokens ['nt'] not in stop_words.\n",
            "  'stop_words.' % sorted(inconsistent))\n"
          ],
          "name": "stderr"
        },
        {
          "output_type": "execute_result",
          "data": {
            "text/plain": [
              "Pipeline(memory=None,\n",
              "         steps=[('tfid',\n",
              "                 TfidfVectorizer(analyzer='word', binary=False,\n",
              "                                 decode_error='strict',\n",
              "                                 dtype=<class 'numpy.float64'>,\n",
              "                                 encoding='utf-8', input='content',\n",
              "                                 lowercase=True, max_df=1.0, max_features=None,\n",
              "                                 min_df=1, ngram_range=(1, 1), norm='l2',\n",
              "                                 preprocessor=None, smooth_idf=True,\n",
              "                                 stop_words='english', strip_accents=None,\n",
              "                                 sublinear_tf=False,\n",
              "                                 token_patte...\n",
              "                 SGDClassifier(alpha=0.0001, average=False, class_weight=None,\n",
              "                               early_stopping=False, epsilon=0.1, eta0=0.0,\n",
              "                               fit_intercept=True, l1_ratio=0.15,\n",
              "                               learning_rate='optimal', loss='hinge',\n",
              "                               max_iter=1000, n_iter_no_change=5, n_jobs=None,\n",
              "                               penalty='l2', power_t=0.5, random_state=None,\n",
              "                               shuffle=True, tol=0.001, validation_fraction=0.1,\n",
              "                               verbose=0, warm_start=False))],\n",
              "         verbose=False)"
            ]
          },
          "metadata": {
            "tags": []
          },
          "execution_count": 144
        }
      ]
    },
    {
      "cell_type": "code",
      "metadata": {
        "id": "clU6JE5afZ0d"
      },
      "source": [
        "pre1=pipe1.predict(test_x)\n",
        "pre2=pipe2.predict(test_x)\n",
        "pre3=pipe3.predict(test_x)\n",
        "pre4=pipe4.predict(test_x)\n",
        "pre5=pipe5.predict(test_x)"
      ],
      "execution_count": null,
      "outputs": []
    },
    {
      "cell_type": "code",
      "metadata": {
        "id": "8N9UjYwGmS3h",
        "colab": {
          "base_uri": "https://localhost:8080/",
          "height": 67
        },
        "outputId": "8efb9526-debe-48bb-b814-1f1dfa6e0471"
      },
      "source": [
        "from sklearn.metrics import accuracy_score,confusion_matrix\n",
        "print(accuracy_score(test_y,pre1))\n",
        "print(confusion_matrix(test_y,pre1))"
      ],
      "execution_count": null,
      "outputs": [
        {
          "output_type": "stream",
          "text": [
            "0.8661616161616161\n",
            "[[1099   80]\n",
            " [ 132  273]]\n"
          ],
          "name": "stdout"
        }
      ]
    },
    {
      "cell_type": "code",
      "metadata": {
        "id": "5FuIWSMomz1d",
        "colab": {
          "base_uri": "https://localhost:8080/",
          "height": 67
        },
        "outputId": "9a6ec8ff-c1f3-4655-e047-b0dc88dc0369"
      },
      "source": [
        "print(accuracy_score(test_y,pre2))\n",
        "print(confusion_matrix(test_y,pre2))"
      ],
      "execution_count": null,
      "outputs": [
        {
          "output_type": "stream",
          "text": [
            "0.8768939393939394\n",
            "[[1088   91]\n",
            " [ 104  301]]\n"
          ],
          "name": "stdout"
        }
      ]
    },
    {
      "cell_type": "code",
      "metadata": {
        "id": "uVsmGgkd2NnP",
        "colab": {
          "base_uri": "https://localhost:8080/",
          "height": 67
        },
        "outputId": "4a023355-4a85-4c75-db7a-326d875fc1d8"
      },
      "source": [
        "print(accuracy_score(test_y,pre3))\n",
        "print(confusion_matrix(test_y,pre3))"
      ],
      "execution_count": null,
      "outputs": [
        {
          "output_type": "stream",
          "text": [
            "0.8402777777777778\n",
            "[[1159   20]\n",
            " [ 233  172]]\n"
          ],
          "name": "stdout"
        }
      ]
    },
    {
      "cell_type": "code",
      "metadata": {
        "id": "JDU3u0RY2Nko",
        "colab": {
          "base_uri": "https://localhost:8080/",
          "height": 67
        },
        "outputId": "3abfe7f1-1ea5-4f3c-b31d-ee9e9c3f3ef9"
      },
      "source": [
        "print(accuracy_score(test_y,pre4))\n",
        "print(confusion_matrix(test_y,pre4))"
      ],
      "execution_count": null,
      "outputs": [
        {
          "output_type": "stream",
          "text": [
            "0.8674242424242424\n",
            "[[1110   69]\n",
            " [ 141  264]]\n"
          ],
          "name": "stdout"
        }
      ]
    },
    {
      "cell_type": "code",
      "metadata": {
        "id": "VpFUxPgp2NhU",
        "colab": {
          "base_uri": "https://localhost:8080/",
          "height": 67
        },
        "outputId": "d2a0669f-a05e-4eff-ff3e-0a5c9a6a8e3b"
      },
      "source": [
        "print(accuracy_score(test_y,pre5))\n",
        "print(confusion_matrix(test_y,pre5))"
      ],
      "execution_count": null,
      "outputs": [
        {
          "output_type": "stream",
          "text": [
            "0.8819444444444444\n",
            "[[1075  104]\n",
            " [  83  322]]\n"
          ],
          "name": "stdout"
        }
      ]
    },
    {
      "cell_type": "code",
      "metadata": {
        "id": "pDn6XRrf2Nem"
      },
      "source": [
        ""
      ],
      "execution_count": null,
      "outputs": []
    },
    {
      "cell_type": "code",
      "metadata": {
        "id": "JXWRr2whnYdn"
      },
      "source": [
        "test=pd.read_csv('/content/test.csv')\n",
        "test.head()"
      ],
      "execution_count": null,
      "outputs": []
    },
    {
      "cell_type": "code",
      "metadata": {
        "id": "spgCgNjXnYgp"
      },
      "source": [
        "sample=pd.read_csv('/content/sample_submission_LnhVWA4.csv')\n",
        "sample.head()"
      ],
      "execution_count": null,
      "outputs": []
    },
    {
      "cell_type": "code",
      "metadata": {
        "id": "g7jAm9NYn5zs"
      },
      "source": [
        "test.isnull().sum()"
      ],
      "execution_count": null,
      "outputs": []
    },
    {
      "cell_type": "code",
      "metadata": {
        "id": "TNtKlD3tn56q"
      },
      "source": [
        "ans5=pipe5.predict(test['tweet'])\n",
        "ans2=pipe2.predict(test['tweet'])"
      ],
      "execution_count": null,
      "outputs": []
    },
    {
      "cell_type": "code",
      "metadata": {
        "id": "U8WtvQhbn6BM"
      },
      "source": [
        "sample['label']=ans2"
      ],
      "execution_count": null,
      "outputs": []
    },
    {
      "cell_type": "code",
      "metadata": {
        "id": "h6mwuJrkn6F0"
      },
      "source": [
        "sample.to_csv('sample5')\n"
      ],
      "execution_count": null,
      "outputs": []
    },
    {
      "cell_type": "code",
      "metadata": {
        "id": "DWjSTpI9n5_7"
      },
      "source": [
        "sample.to_csv('samples2')"
      ],
      "execution_count": null,
      "outputs": []
    },
    {
      "cell_type": "code",
      "metadata": {
        "id": "rDaqj-BwcGR2"
      },
      "source": [
        "# def cleaned_data(sentence):\n",
        "#     doc=nlp(sentence)\n",
        "    \n",
        "#     tokens=[]\n",
        "#     for token in doc:\n",
        "#         if token.lemma_ !=\"-PRON-\":\n",
        "#             temp=token.lemma_.lower().strip()\n",
        "#         else:\n",
        "#             temp=token.lower_\n",
        "#         tokens.append(temp)\n",
        "        \n",
        "#     clean=[]\n",
        "#     for token in tokens:\n",
        "#         if token not in stopwords and token  not in [punct,'...', '.']:\n",
        "#             clean.append(token)\n",
        "#     return clean\n"
      ],
      "execution_count": null,
      "outputs": []
    },
    {
      "cell_type": "code",
      "metadata": {
        "id": "Ze2ldrsvkAcD",
        "colab": {
          "base_uri": "https://localhost:8080/",
          "height": 195
        },
        "outputId": "bf96fa0e-3a5f-440c-942b-104ecf8979b6"
      },
      "source": [
        "# clean_x=x.apply(lambda a:cleaned_data(a))\n",
        "import pandas as pd\n",
        "train=pd.read_csv('/content/train.csv')\n",
        "train.head()\n",
        "test=pd.read_csv('/content/test.csv')\n",
        "test.head()"
      ],
      "execution_count": null,
      "outputs": [
        {
          "output_type": "execute_result",
          "data": {
            "text/html": [
              "<div>\n",
              "<style scoped>\n",
              "    .dataframe tbody tr th:only-of-type {\n",
              "        vertical-align: middle;\n",
              "    }\n",
              "\n",
              "    .dataframe tbody tr th {\n",
              "        vertical-align: top;\n",
              "    }\n",
              "\n",
              "    .dataframe thead th {\n",
              "        text-align: right;\n",
              "    }\n",
              "</style>\n",
              "<table border=\"1\" class=\"dataframe\">\n",
              "  <thead>\n",
              "    <tr style=\"text-align: right;\">\n",
              "      <th></th>\n",
              "      <th>id</th>\n",
              "      <th>tweet</th>\n",
              "    </tr>\n",
              "  </thead>\n",
              "  <tbody>\n",
              "    <tr>\n",
              "      <th>0</th>\n",
              "      <td>7921</td>\n",
              "      <td>I hate the new #iphone upgrade. Won't let me d...</td>\n",
              "    </tr>\n",
              "    <tr>\n",
              "      <th>1</th>\n",
              "      <td>7922</td>\n",
              "      <td>currently shitting my fucking pants. #apple #i...</td>\n",
              "    </tr>\n",
              "    <tr>\n",
              "      <th>2</th>\n",
              "      <td>7923</td>\n",
              "      <td>I'd like to puts some CD-ROMS on my iPad, is t...</td>\n",
              "    </tr>\n",
              "    <tr>\n",
              "      <th>3</th>\n",
              "      <td>7924</td>\n",
              "      <td>My ipod is officially dead. I lost all my pict...</td>\n",
              "    </tr>\n",
              "    <tr>\n",
              "      <th>4</th>\n",
              "      <td>7925</td>\n",
              "      <td>Been fighting iTunes all night! I only want th...</td>\n",
              "    </tr>\n",
              "  </tbody>\n",
              "</table>\n",
              "</div>"
            ],
            "text/plain": [
              "     id                                              tweet\n",
              "0  7921  I hate the new #iphone upgrade. Won't let me d...\n",
              "1  7922  currently shitting my fucking pants. #apple #i...\n",
              "2  7923  I'd like to puts some CD-ROMS on my iPad, is t...\n",
              "3  7924  My ipod is officially dead. I lost all my pict...\n",
              "4  7925  Been fighting iTunes all night! I only want th..."
            ]
          },
          "metadata": {
            "tags": []
          },
          "execution_count": 170
        }
      ]
    },
    {
      "cell_type": "code",
      "metadata": {
        "id": "HSUCBQkVkISA"
      },
      "source": [
        "puncts = [',', '.', '\"', ':', ')', '(', '-', '!', '?', '|', ';', \"'\", '$', '&', '/', '[', ']', '>', '%', '=', '#', '*', '+', '\\\\', '•',  '~', '@', '£', \n",
        " '·', '_', '{', '}', '©', '^', '®', '`',  '<', '→', '°', '€', '™', '›',  '♥', '←', '×', '§', '″', '′', 'Â', '█', '½', 'à', '…', \n",
        " '“', '★', '”', '–', '●', 'â', '►', '−', '¢', '²', '¬', '░', '¶', '↑', '±', '¿', '▾', '═', '¦', '║', '―', '¥', '▓', '—', '‹', '─', \n",
        " '▒', '：', '¼', '⊕', '▼', '▪', '†', '■', '’', '▀', '¨', '▄', '♫', '☆', 'é', '¯', '♦', '¤', '▲', 'è', '¸', '¾', 'Ã', '⋅', '‘', '∞', \n",
        " '∙', '）', '↓', '、', '│', '（', '»', '，', '♪', '╩', '╚', '³', '・', '╦', '╣', '╔', '╗', '▬', '❤', 'ï', 'Ø', '¹', '≤', '‡', '√']\n",
        "import re\n",
        "# Code to replace punctuation marks with whitespace \n",
        "def clean_text(x):\n",
        "    x = str(x)\n",
        "    for punct in puncts:\n",
        "        if punct in x:\n",
        "            x = x.replace(punct, ' ')\n",
        "    return x\n",
        "\n",
        "# Remove URL's from train and test datasets\n",
        "train['clean_tweet'] = train['tweet'].apply(lambda x: re.sub(r'http\\S+', '', x))\n",
        "test['clean_tweet'] = test['tweet'].apply(lambda x: re.sub(r'http\\S+', '', x))\n",
        "\n",
        "# Remove user handles @\n",
        "train['clean_tweet'] = train['clean_tweet'].apply(lambda x: re.sub(\"@[\\w]*\", '', x))\n",
        "test['clean_tweet'] = test['clean_tweet'].apply(lambda x: re.sub(\"@[\\w]*\", '', x))\n",
        "\n",
        "# Remove punctuation marks\n",
        "train['clean_tweet'] = train['clean_tweet'].apply(lambda x: clean_text(x))\n",
        "test['clean_tweet'] = test['clean_tweet'].apply(lambda x: clean_text(x))\n",
        "\n",
        "# Convert text to lowercase\n",
        "train['clean_tweet'] = train['clean_tweet'].str.lower()\n",
        "test['clean_tweet'] = test['clean_tweet'].str.lower()\n",
        "\n",
        "# Remove numbers\n",
        "train['clean_tweet'] = train['clean_tweet'].str.replace(\"[0-9]\", \" \")\n",
        "test['clean_tweet'] = test['clean_tweet'].str.replace(\"[0-9]\", \" \")\n",
        "\n",
        "# Remove whitespaces\n",
        "train['clean_tweet'] = train['clean_tweet'].apply(lambda x:' '.join(x.split()))\n",
        "test['clean_tweet'] = test['clean_tweet'].apply(lambda x: ' '.join(x.split()))\n",
        "\n",
        "# Function to lemmatize the tokens to their basic forms to normalize the tweet text\n",
        "# and focus on key words for the classification tasks\n",
        "\n",
        "def lemmatization(texts):\n",
        "    output = []\n",
        "    for i in texts:\n",
        "        s = [token.lemma_ for token in nlp(i)]\n",
        "        output.append(' '.join(s))\n",
        "    return output\n",
        "\n",
        "# Record the time to lemmatize the tweets and converting them into vectors using spaCy\n",
        "\n",
        "\n",
        "# Lemmatise the tokens\n",
        "train['clean_tweet'] = lemmatization(train['clean_tweet'])\n",
        "train['clean_tweet'] = train['clean_tweet'].str.replace(\"-PRON-\", \"\")\n",
        "test['clean_tweet'] = lemmatization(test['clean_tweet'])\n",
        "test['clean_tweet'] = test['clean_tweet'].str.replace(\"-PRON-\", \"\")"
      ],
      "execution_count": null,
      "outputs": []
    },
    {
      "cell_type": "code",
      "metadata": {
        "id": "FlT_VdtR8vF1"
      },
      "source": [
        "# tfid=TfidfVectorizer(stop_words='english')\n",
        "# train['clean_tweet']=tfid.fit_transform(train['clean_tweet'])\n",
        "# test['clean_tweet']=tfid.fit_transform(test['clean_tweet'])"
      ],
      "execution_count": null,
      "outputs": []
    },
    {
      "cell_type": "code",
      "metadata": {
        "id": "tmzoL1Ta9s_g",
        "colab": {
          "base_uri": "https://localhost:8080/",
          "height": 370
        },
        "outputId": "46f10d2a-cf14-4a26-9d2b-2661909abb26"
      },
      "source": [
        "pipe5=Pipeline([('tfid',TfidfVectorizer(stop_words='english')),('sgd',SGDClassifier())])\n",
        "pipe5.fit(train['clean_tweet'],train['label'])"
      ],
      "execution_count": null,
      "outputs": [
        {
          "output_type": "execute_result",
          "data": {
            "text/plain": [
              "Pipeline(memory=None,\n",
              "         steps=[('tfid',\n",
              "                 TfidfVectorizer(analyzer='word', binary=False,\n",
              "                                 decode_error='strict',\n",
              "                                 dtype=<class 'numpy.float64'>,\n",
              "                                 encoding='utf-8', input='content',\n",
              "                                 lowercase=True, max_df=1.0, max_features=None,\n",
              "                                 min_df=1, ngram_range=(1, 1), norm='l2',\n",
              "                                 preprocessor=None, smooth_idf=True,\n",
              "                                 stop_words='english', strip_accents=None,\n",
              "                                 sublinear_tf=False,\n",
              "                                 token_patte...\n",
              "                 SGDClassifier(alpha=0.0001, average=False, class_weight=None,\n",
              "                               early_stopping=False, epsilon=0.1, eta0=0.0,\n",
              "                               fit_intercept=True, l1_ratio=0.15,\n",
              "                               learning_rate='optimal', loss='hinge',\n",
              "                               max_iter=1000, n_iter_no_change=5, n_jobs=None,\n",
              "                               penalty='l2', power_t=0.5, random_state=None,\n",
              "                               shuffle=True, tol=0.001, validation_fraction=0.1,\n",
              "                               verbose=0, warm_start=False))],\n",
              "         verbose=False)"
            ]
          },
          "metadata": {
            "tags": []
          },
          "execution_count": 172
        }
      ]
    },
    {
      "cell_type": "code",
      "metadata": {
        "id": "2yhZS6ga-dI0"
      },
      "source": [
        "ans=pipe5.predict(test['clean_tweet'])"
      ],
      "execution_count": null,
      "outputs": []
    },
    {
      "cell_type": "code",
      "metadata": {
        "id": "xvIkaPfp_Y8n"
      },
      "source": [
        "sample=pd.read_csv('/content/sample_submission_LnhVWA4.csv')\n",
        "sample['label']=ans"
      ],
      "execution_count": null,
      "outputs": []
    },
    {
      "cell_type": "code",
      "metadata": {
        "id": "QeCDsk7U_pM6"
      },
      "source": [
        "sample.to_csv('final')"
      ],
      "execution_count": null,
      "outputs": []
    },
    {
      "cell_type": "code",
      "metadata": {
        "id": "_vZMPqeG_xuO"
      },
      "source": [
        ""
      ],
      "execution_count": null,
      "outputs": []
    }
  ]
}